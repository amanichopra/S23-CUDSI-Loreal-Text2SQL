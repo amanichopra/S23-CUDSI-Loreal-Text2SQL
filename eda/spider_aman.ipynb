{
 "cells": [
  {
   "cell_type": "markdown",
   "metadata": {},
   "source": [
    "# EDA"
   ]
  },
  {
   "cell_type": "markdown",
   "metadata": {},
   "source": [
    "EDA is performed on the Spider [dataset](https://drive.google.com/uc?export=download&id=1TqleXec_OykOYFREKKtschzY29dUcVAQ). More info about the datset [here](https://yale-lily.github.io/spider)."
   ]
  },
  {
   "cell_type": "code",
   "execution_count": 4,
   "metadata": {},
   "outputs": [],
   "source": [
    "path_to_data = '../../Spider Dataset'"
   ]
  },
  {
   "cell_type": "code",
   "execution_count": 2,
   "metadata": {},
   "outputs": [],
   "source": [
    "from glob import glob"
   ]
  },
  {
   "cell_type": "markdown",
   "metadata": {},
   "source": [
    "Let's start by looking at the structure of each of the files."
   ]
  },
  {
   "cell_type": "code",
   "execution_count": 7,
   "metadata": {},
   "outputs": [
    {
     "data": {
      "text/plain": [
       "['../../Spider Dataset/dev_gold.sql',\n",
       " '../../Spider Dataset/database',\n",
       " '../../Spider Dataset/train_others.json',\n",
       " '../../Spider Dataset/train_spider.json',\n",
       " '../../Spider Dataset/tables.json',\n",
       " '../../Spider Dataset/dev.json',\n",
       " '../../Spider Dataset/README.txt',\n",
       " '../../Spider Dataset/train_gold.sql']"
      ]
     },
     "execution_count": 7,
     "metadata": {},
     "output_type": "execute_result"
    }
   ],
   "source": [
    "glob(f'{path_to_data}/*')"
   ]
  },
  {
   "cell_type": "markdown",
   "metadata": {},
   "source": [
    "As the Spider info page describes, the json files contain records containing the following fields:"
   ]
  },
  {
   "cell_type": "markdown",
   "metadata": {},
   "source": [
    "- `db_id`: the database id to which this question is addressed.\n",
    "- `query`: the SQL query corresponding to the question.\n",
    "- `query_toks`: the SQL query tokens corresponding to the question.\n",
    "- `query_toks_no_value`: list of tokens for the query, where the values are mapped to the keyword `value`.\n",
    "- `question`: the natural language question.\n",
    "- `question_toks`: list of tokens for the natural language question.\n",
    "- `sql`: parsed results of this SQL query using [process_sql.py](https://github.com/taoyds/spider/blob/master/process_sql.py). "
   ]
  },
  {
   "cell_type": "code",
   "execution_count": 23,
   "metadata": {},
   "outputs": [
    {
     "name": "stdout",
     "output_type": "stream",
     "text": [
      "[\r\n",
      "    {\r\n",
      "        \"db_id\": \"department_management\",\r\n",
      "        \"query\": \"SELECT count(*) FROM head WHERE age  >  56\",\r\n",
      "        \"query_toks\": [\r\n",
      "            \"SELECT\",\r\n",
      "            \"count\",\r\n",
      "            \"(\",\r\n",
      "            \"*\",\r\n",
      "            \")\",\r\n",
      "            \"FROM\",\r\n",
      "            \"head\",\r\n",
      "            \"WHERE\",\r\n",
      "            \"age\",\r\n",
      "            \">\",\r\n",
      "            \"56\"\r\n",
      "        ],\r\n",
      "        \"query_toks_no_value\": [\r\n",
      "            \"select\",\r\n",
      "            \"count\",\r\n",
      "            \"(\",\r\n",
      "            \"*\",\r\n",
      "            \")\",\r\n",
      "            \"from\",\r\n",
      "            \"head\",\r\n",
      "            \"where\",\r\n",
      "            \"age\",\r\n",
      "            \">\",\r\n",
      "            \"value\"\r\n",
      "        ],\r\n",
      "        \"question\": \"How many heads of the departments are older than 56 ?\",\r\n",
      "        \"question_toks\": [\r\n",
      "            \"How\",\r\n",
      "            \"many\",\r\n",
      "            \"heads\",\r\n",
      "            \"of\",\r\n",
      "            \"the\",\r\n",
      "            \"departments\",\r\n",
      "            \"are\",\r\n",
      "            \"older\",\r\n",
      "            \"than\",\r\n",
      "            \"56\",\r\n",
      "            \"?\"\r\n",
      "        ],\r\n",
      "        \"sql\": {\r\n",
      "            \"from\": {\r\n",
      "                \"table_units\": [\r\n",
      "                    [\r\n",
      "                        \"table_unit\",\r\n",
      "                        1\r\n",
      "                    ]\r\n",
      "                ],\r\n",
      "                \"conds\": []\r\n",
      "            },\r\n",
      "            \"select\": [\r\n",
      "                false,\r\n",
      "                [\r\n",
      "                    [\r\n",
      "                        3,\r\n",
      "                        [\r\n",
      "                            0,\r\n",
      "                            [\r\n",
      "                                0,\r\n",
      "                                0,\r\n",
      "                                false\r\n",
      "                            ],\r\n",
      "                            null\r\n",
      "                        ]\r\n",
      "                    ]\r\n",
      "                ]\r\n",
      "            ],\r\n",
      "            \"where\": [\r\n",
      "                [\r\n",
      "                    false,\r\n",
      "                    3,\r\n",
      "                    [\r\n",
      "                        0,\r\n",
      "                        [\r\n",
      "                            0,\r\n",
      "                            10,\r\n",
      "                            false\r\n",
      "                        ],\r\n",
      "                        null\r\n",
      "                    ],\r\n",
      "                    56.0,\r\n",
      "                    null\r\n",
      "                ]\r\n",
      "            ],\r\n",
      "            \"groupBy\": [],\r\n",
      "            \"having\": [],\r\n",
      "            \"orderBy\": [],\r\n",
      "            \"limit\": null,\r\n",
      "            \"intersect\": null,\r\n",
      "            \"union\": null,\r\n",
      "            \"except\": null\r\n",
      "        }\r\n",
      "    },\r\n",
      "    {\r\n",
      "        \"db_id\": \"department_management\",\r\n",
      "        \"query\": \"SELECT name ,  born_state ,  age FROM head ORDER BY age\",\r\n",
      "        \"query_toks\": [\r\n",
      "            \"SELECT\",\r\n",
      "            \"name\",\r\n",
      "            \",\",\r\n",
      "            \"born_state\",\r\n",
      "            \",\",\r\n",
      "            \"age\",\r\n",
      "            \"FROM\",\r\n",
      "            \"head\",\r\n",
      "            \"ORDER\",\r\n",
      "            \"BY\",\r\n",
      "            \"age\"\r\n",
      "        ],\r\n",
      "        \"query_toks_no_value\": [\r\n",
      "            \"select\",\r\n",
      "            \"name\",\r\n",
      "            \",\",\r\n",
      "            \"born_state\",\r\n",
      "            \",\",\r\n",
      "            \"age\",\r\n",
      "            \"from\",\r\n",
      "            \"head\",\r\n",
      "            \"order\",\r\n",
      "            \"by\",\r\n",
      "            \"age\"\r\n",
      "        ],\r\n",
      "        \"question\": \"List the name, born state and age of the heads of departments ordered by age.\",\r\n",
      "        \"question_toks\": [\r\n",
      "            \"List\",\r\n",
      "            \"the\",\r\n",
      "            \"name\",\r\n",
      "            \",\",\r\n",
      "            \"born\",\r\n",
      "            \"state\",\r\n",
      "            \"and\",\r\n",
      "            \"age\",\r\n",
      "            \"of\",\r\n",
      "            \"the\",\r\n",
      "            \"heads\",\r\n",
      "            \"of\",\r\n",
      "            \"departments\",\r\n",
      "            \"ordered\",\r\n",
      "            \"by\",\r\n",
      "            \"age\",\r\n",
      "            \".\"\r\n",
      "        ],\r\n",
      "        \"sql\": {\r\n",
      "            \"from\": {\r\n",
      "                \"table_units\": [\r\n",
      "                    [\r\n",
      "                        \"table_unit\",\r\n",
      "                        1\r\n",
      "                    ]\r\n",
      "                ],\r\n",
      "                \"conds\": []\r\n",
      "            },\r\n",
      "            \"select\": [\r\n",
      "                false,\r\n",
      "                [\r\n",
      "                    [\r\n",
      "                        0,\r\n",
      "                        [\r\n",
      "                            0,\r\n",
      "                            [\r\n",
      "                                0,\r\n",
      "                                8,\r\n",
      "                                false\r\n",
      "                            ],\r\n",
      "                            null\r\n",
      "                        ]\r\n",
      "                    ],\r\n",
      "                    [\r\n",
      "                        0,\r\n",
      "                        [\r\n",
      "                            0,\r\n",
      "                            [\r\n",
      "                                0,\r\n",
      "                                9,\r\n",
      "                                false\r\n",
      "                            ],\r\n",
      "                            null\r\n",
      "                        ]\r\n",
      "                    ],\r\n",
      "                    [\r\n",
      "                        0,\r\n",
      "                        [\r\n",
      "                            0,\r\n",
      "                            [\r\n",
      "                                0,\r\n",
      "                                10,\r\n",
      "                                false\r\n",
      "                            ],\r\n",
      "                            null\r\n",
      "                        ]\r\n",
      "                    ]\r\n",
      "                ]\r\n",
      "            ],\r\n",
      "            \"where\": [],\r\n",
      "            \"groupBy\": [],\r\n",
      "            \"having\": [],\r\n"
     ]
    }
   ],
   "source": [
    "!head -n 200 '../../Spider Dataset/train_spider.json'"
   ]
  },
  {
   "cell_type": "markdown",
   "metadata": {},
   "source": [
    "It's unclear what `train_others.json` is used for, but `train_spider.json` is the training set, and `dev.json` is the validation set. We will explore this further later."
   ]
  },
  {
   "cell_type": "markdown",
   "metadata": {},
   "source": [
    "It's unclear what the sql files are used for. They seem to align with the `query` field in the `.json` files. Let's verify this."
   ]
  },
  {
   "cell_type": "code",
   "execution_count": 25,
   "metadata": {},
   "outputs": [
    {
     "name": "stdout",
     "output_type": "stream",
     "text": [
      "SELECT count(*) FROM head WHERE age  >  56\tdepartment_management\r\n",
      "SELECT name ,  born_state ,  age FROM head ORDER BY age\tdepartment_management\r\n",
      "SELECT creation ,  name ,  budget_in_billions FROM department\tdepartment_management\r\n",
      "SELECT max(budget_in_billions) ,  min(budget_in_billions) FROM department\tdepartment_management\r\n",
      "SELECT avg(num_employees) FROM department WHERE ranking BETWEEN 10 AND 15\tdepartment_management\r\n",
      "SELECT name FROM head WHERE born_state != 'California'\tdepartment_management\r\n",
      "SELECT DISTINCT T1.creation FROM department AS T1 JOIN management AS T2 ON T1.department_id  =  T2.department_id JOIN head AS T3 ON T2.head_id  =  T3.head_id WHERE T3.born_state  =  'Alabama'\tdepartment_management\r\n",
      "SELECT born_state FROM head GROUP BY born_state HAVING count(*)  >=  3\tdepartment_management\r\n",
      "SELECT creation FROM department GROUP BY creation ORDER BY count(*) DESC LIMIT 1\tdepartment_management\r\n",
      "SELECT T1.name ,  T1.num_employees FROM department AS T1 JOIN management AS T2 ON T1.department_id  =  T2.department_id WHERE T2.temporary_acting  =  'Yes'\tdepartment_management\r\n"
     ]
    }
   ],
   "source": [
    "!head '../../Spider Dataset/train_gold.sql'"
   ]
  },
  {
   "cell_type": "code",
   "execution_count": 29,
   "metadata": {},
   "outputs": [
    {
     "data": {
      "text/plain": [
       "8659"
      ]
     },
     "execution_count": 29,
     "metadata": {},
     "output_type": "execute_result"
    }
   ],
   "source": [
    "with open('../../Spider Dataset/train_gold.sql') as f:\n",
    "    lines = f.readlines()\n",
    "len(lines)"
   ]
  },
  {
   "cell_type": "code",
   "execution_count": 42,
   "metadata": {},
   "outputs": [
    {
     "data": {
      "text/plain": [
       "7000"
      ]
     },
     "execution_count": 42,
     "metadata": {},
     "output_type": "execute_result"
    }
   ],
   "source": [
    "import json\n",
    "\n",
    "with open('../../Spider Dataset/train_spider.json') as f:\n",
    "    train_spider = json.load(f)\n",
    "len(train_spider)"
   ]
  },
  {
   "cell_type": "markdown",
   "metadata": {},
   "source": [
    "It already seems like there is a discrepancy, as `train_spider.json` has less records that `train_gold.sql`. It's possible, `train_others.json` might have the remaining records."
   ]
  },
  {
   "cell_type": "code",
   "execution_count": 38,
   "metadata": {},
   "outputs": [
    {
     "data": {
      "text/plain": [
       "1659"
      ]
     },
     "execution_count": 38,
     "metadata": {},
     "output_type": "execute_result"
    }
   ],
   "source": [
    "import json\n",
    "\n",
    "with open('../../Spider Dataset/train_others.json') as f:\n",
    "    train_others = json.load(f)\n",
    "len(train_others)"
   ]
  },
  {
   "cell_type": "markdown",
   "metadata": {},
   "source": [
    "Seems like the full training corpus includes records from both `train_spider.json` and `train_others.json`. Now, let's verify that `train_gold.sql` aligns with the `query` field in the `.json` files."
   ]
  },
  {
   "cell_type": "code",
   "execution_count": 69,
   "metadata": {},
   "outputs": [
    {
     "data": {
      "text/plain": [
       "False"
      ]
     },
     "execution_count": 69,
     "metadata": {},
     "output_type": "execute_result"
    }
   ],
   "source": [
    "gold_queries = [line.split('\\t')[0] for line in lines]\n",
    "train_spider_queries = [record['query'] for record in train_spider]\n",
    "gold_queries[:len(train_spider_queries)] == train_spider_queries"
   ]
  },
  {
   "cell_type": "code",
   "execution_count": 73,
   "metadata": {
    "scrolled": true
   },
   "outputs": [
    {
     "name": "stdout",
     "output_type": "stream",
     "text": [
      "20\n",
      "SELECT Hosts FROM farm_competition WHERE Theme != 'Aliens'\n",
      "SELECT Hosts FROM farm_competition WHERE Theme !=  'Aliens'\n",
      "21\n",
      "SELECT Hosts FROM farm_competition WHERE Theme != 'Aliens'\n",
      "SELECT Hosts FROM farm_competition WHERE Theme !=  'Aliens'\n",
      "54\n",
      "SELECT Census_Ranking FROM city WHERE Status != \"Village\"\n",
      "SELECT Census_Ranking FROM city WHERE Status !=  \"Village\"\n",
      "55\n",
      "SELECT Census_Ranking FROM city WHERE Status != \"Village\"\n",
      "SELECT Census_Ranking FROM city WHERE Status !=  \"Village\"\n",
      "165\n",
      "SELECT count(*) FROM trip AS T1 JOIN station AS T2 ON T1.end_station_id  =  T2.id WHERE T2.city != \"San Francisco\"\n",
      "SELECT count(*) FROM trip AS T1 JOIN station AS T2 ON T1.end_station_id  =  T2.id WHERE T2.city !=  \"San Francisco\"\n",
      "789\n",
      "SELECT city_name FROM city WHERE population  =  ( SELECT MAX ( population ) FROM city WHERE state_name  =  \"wyoming\" ) AND state_name  =  \"wyoming\";\n",
      "SELECT count(*) FROM member WHERE Membership_card  =  'Black'\n",
      "790\n",
      "SELECT city_name FROM city WHERE population  =  ( SELECT MAX ( population ) FROM city WHERE state_name  =  \"wyoming\" ) AND state_name  =  \"wyoming\";\n",
      "SELECT count(*) ,  address FROM member GROUP BY address\n",
      "791\n",
      "SELECT city_name FROM city WHERE population  =  ( SELECT MAX ( population ) FROM city WHERE state_name  =  \"wyoming\" ) AND state_name  =  \"wyoming\";\n",
      "SELECT name FROM member WHERE address  =  'Harford' OR address  =  'Waterbury'\n",
      "792\n",
      "SELECT city_name FROM city WHERE population  =  ( SELECT MAX ( population ) FROM city WHERE state_name  =  \"wyoming\" ) AND state_name  =  \"wyoming\";\n",
      "SELECT name ,  member_id FROM member WHERE Membership_card  =  'Black' OR age  <  30\n",
      "793\n",
      "SELECT city_name FROM city WHERE population  =  ( SELECT MAX ( population ) FROM city WHERE state_name  =  \"wyoming\" ) AND state_name  =  \"wyoming\";\n",
      "SELECT Time_of_purchase ,  age ,  address FROM member ORDER BY Time_of_purchase\n",
      "794\n",
      "SELECT city_name FROM city WHERE population  =  ( SELECT MAX ( population ) FROM city WHERE state_name  =  \"wyoming\" ) AND state_name  =  \"wyoming\";\n",
      "SELECT Membership_card FROM member GROUP BY Membership_card HAVING count(*)  >  5\n"
     ]
    }
   ],
   "source": [
    "p = 0\n",
    "for i, (gold, train) in enumerate(zip(gold_queries[:len(train_spider_queries)], train_spider_queries)):\n",
    "    if p > 10:\n",
    "        break\n",
    "    if gold != train:\n",
    "        print(i)\n",
    "        print(gold)\n",
    "        print(train)\n",
    "        p += 1"
   ]
  },
  {
   "cell_type": "markdown",
   "metadata": {},
   "source": [
    "`train_gold.sql` seems to disagree with the training data. Even though the number of records is equal to the sum of the number of records in `train_spider.json` and `train_others.json`, it seems to have records in a different order. According to the Spider GitHub [page](https://github.com/taoyds/spider), it's used for evaluation to compare the predicted sql to the true sql. This can probably be generated from the `.json` files depending on how we decide to create our trainining, validation, and testing splits. We can proceed by ignoring this file for now."
   ]
  },
  {
   "cell_type": "code",
   "execution_count": null,
   "metadata": {},
   "outputs": [],
   "source": []
  }
 ],
 "metadata": {
  "kernelspec": {
   "display_name": "Python 3",
   "language": "python",
   "name": "python3"
  },
  "language_info": {
   "codemirror_mode": {
    "name": "ipython",
    "version": 3
   },
   "file_extension": ".py",
   "mimetype": "text/x-python",
   "name": "python",
   "nbconvert_exporter": "python",
   "pygments_lexer": "ipython3",
   "version": "3.8.3"
  }
 },
 "nbformat": 4,
 "nbformat_minor": 4
}
